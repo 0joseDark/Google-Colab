{
  "nbformat": 4,
  "nbformat_minor": 0,
  "metadata": {
    "colab": {
      "provenance": [],
      "include_colab_link": true
    },
    "kernelspec": {
      "name": "python3",
      "display_name": "Python 3"
    }
  },
  "cells": [
    {
      "cell_type": "markdown",
      "metadata": {
        "id": "view-in-github",
        "colab_type": "text"
      },
      "source": [
        "<a href=\"https://colab.research.google.com/github/0joseDark/0joseDark/blob/main/C%C3%B3pia_de_fashion_mnist.ipynb\" target=\"_parent\"><img src=\"https://colab.research.google.com/assets/colab-badge.svg\" alt=\"Open In Colab\"/></a>"
      ]
    },
    {
      "cell_type": "code",
      "metadata": {
        "id": "6iUmGHSewaWN",
        "colab": {
          "base_uri": "https://localhost:8080/"
        },
        "outputId": "a011b33e-ce52-462a-9ea7-9889f11f1926"
      },
      "source": [
        "%tensorflow_version 2.x\n",
        "import tensorflow as tf\n",
        "from tensorflow import keras\n",
        "import numpy as np\n",
        "import matplotlib.pyplot as plt"
      ],
      "execution_count": null,
      "outputs": [
        {
          "output_type": "stream",
          "name": "stdout",
          "text": [
            "Colab only includes TensorFlow 2.x; %tensorflow_version has no effect.\n"
          ]
        }
      ]
    },
    {
      "cell_type": "code",
      "metadata": {
        "id": "5wjLzPCI6wf4",
        "colab": {
          "base_uri": "https://localhost:8080/"
        },
        "outputId": "a0b95fed-3bfe-4d74-cde6-440315cdb8fb"
      },
      "source": [
        "# load the fashion mnist dataset from keras\n",
        "fashion_mnist = keras.datasets.fashion_mnist\n",
        "(train_X, train_y),(test_X,test_y) = fashion_mnist.load_data()"
      ],
      "execution_count": null,
      "outputs": [
        {
          "output_type": "stream",
          "name": "stdout",
          "text": [
            "Downloading data from https://storage.googleapis.com/tensorflow/tf-keras-datasets/train-labels-idx1-ubyte.gz\n",
            "29515/29515 [==============================] - 0s 0us/step\n",
            "Downloading data from https://storage.googleapis.com/tensorflow/tf-keras-datasets/train-images-idx3-ubyte.gz\n",
            "26421880/26421880 [==============================] - 0s 0us/step\n",
            "Downloading data from https://storage.googleapis.com/tensorflow/tf-keras-datasets/t10k-labels-idx1-ubyte.gz\n",
            "5148/5148 [==============================] - 0s 0us/step\n",
            "Downloading data from https://storage.googleapis.com/tensorflow/tf-keras-datasets/t10k-images-idx3-ubyte.gz\n",
            "4422102/4422102 [==============================] - 0s 0us/step\n"
          ]
        }
      ]
    },
    {
      "cell_type": "code",
      "metadata": {
        "id": "JEGMcOijl_R7"
      },
      "source": [
        "# data preprocessing, scaling values from 0-255 to 0-1\n",
        "train_X = train_X/255.0\n",
        "test_X = test_X/255.0"
      ],
      "execution_count": null,
      "outputs": []
    },
    {
      "cell_type": "code",
      "metadata": {
        "id": "EkHrVIwOmpyZ"
      },
      "source": [
        "# build the layers of the neural network\n",
        "model = tf.keras.models.Sequential([\n",
        "  tf.keras.layers.Flatten(input_shape=(28, 28)),\n",
        "  tf.keras.layers.Dense(128, activation='relu'),\n",
        "  tf.keras.layers.Dense(10, activation='softmax')\n",
        "])\n",
        "\n",
        "# set up model optimizer, loss function, and accuracy\n",
        "model.compile(optimizer='adam',\n",
        "              loss=tf.keras.losses.SparseCategoricalCrossentropy(from_logits=True),\n",
        "              metrics=['accuracy'])"
      ],
      "execution_count": null,
      "outputs": []
    },
    {
      "cell_type": "code",
      "metadata": {
        "id": "Yt26tMJZiZZP",
        "colab": {
          "base_uri": "https://localhost:8080/"
        },
        "outputId": "667652a9-329d-4e51-82cf-8227d3b97925"
      },
      "source": [
        "# train the model on training data\n",
        "model.fit(train_X, train_y, epochs=12)"
      ],
      "execution_count": null,
      "outputs": [
        {
          "output_type": "stream",
          "name": "stdout",
          "text": [
            "Epoch 1/12\n"
          ]
        },
        {
          "output_type": "stream",
          "name": "stderr",
          "text": [
            "/usr/local/lib/python3.10/dist-packages/keras/src/backend.py:5727: UserWarning: \"`sparse_categorical_crossentropy` received `from_logits=True`, but the `output` argument was produced by a Softmax activation and thus does not represent logits. Was this intended?\n",
            "  output, from_logits = _get_logits(\n"
          ]
        },
        {
          "output_type": "stream",
          "name": "stdout",
          "text": [
            "1875/1875 [==============================] - 8s 4ms/step - loss: 0.5034 - accuracy: 0.8223\n",
            "Epoch 2/12\n",
            "1875/1875 [==============================] - 9s 5ms/step - loss: 0.3753 - accuracy: 0.8652\n",
            "Epoch 3/12\n",
            "1875/1875 [==============================] - 8s 4ms/step - loss: 0.3358 - accuracy: 0.8776\n",
            "Epoch 4/12\n",
            "1875/1875 [==============================] - 7s 3ms/step - loss: 0.3114 - accuracy: 0.8864\n",
            "Epoch 5/12\n",
            "1875/1875 [==============================] - 8s 4ms/step - loss: 0.2929 - accuracy: 0.8925\n",
            "Epoch 6/12\n",
            "1875/1875 [==============================] - 7s 4ms/step - loss: 0.2792 - accuracy: 0.8960\n",
            "Epoch 7/12\n",
            "1875/1875 [==============================] - 8s 4ms/step - loss: 0.2673 - accuracy: 0.9006\n",
            "Epoch 8/12\n",
            "1875/1875 [==============================] - 9s 5ms/step - loss: 0.2568 - accuracy: 0.9040\n",
            "Epoch 9/12\n",
            "1875/1875 [==============================] - 8s 4ms/step - loss: 0.2477 - accuracy: 0.9080\n",
            "Epoch 10/12\n",
            "1875/1875 [==============================] - 8s 4ms/step - loss: 0.2384 - accuracy: 0.9114\n",
            "Epoch 11/12\n",
            "1875/1875 [==============================] - 7s 4ms/step - loss: 0.2289 - accuracy: 0.9148\n",
            "Epoch 12/12\n",
            "1875/1875 [==============================] - 7s 4ms/step - loss: 0.2223 - accuracy: 0.9160\n"
          ]
        },
        {
          "output_type": "execute_result",
          "data": {
            "text/plain": [
              "<keras.src.callbacks.History at 0x7e4828a67670>"
            ]
          },
          "metadata": {},
          "execution_count": 5
        }
      ]
    },
    {
      "cell_type": "code",
      "metadata": {
        "id": "mznDqCM0p5MC",
        "colab": {
          "base_uri": "https://localhost:8080/"
        },
        "outputId": "ec644b5c-32d1-44d3-d8b5-41b525993763"
      },
      "source": [
        "# test the model on testing data\n",
        "loss, acc = model.evaluate(test_X, test_y, verbose = 1)\n",
        "print('\\nTest accuracy: ', acc)"
      ],
      "execution_count": null,
      "outputs": [
        {
          "output_type": "stream",
          "name": "stdout",
          "text": [
            "313/313 [==============================] - 1s 2ms/step - loss: 0.3412 - accuracy: 0.8832\n",
            "\n",
            "Test accuracy:  0.8831999897956848\n"
          ]
        }
      ]
    },
    {
      "cell_type": "code",
      "metadata": {
        "id": "YeLj9vsssWWZ"
      },
      "source": [
        "# show an object photo and label\n",
        "def show_photo(i):\n",
        "  plt.figure(figsize=(6,6))\n",
        "  plt.xticks([])\n",
        "  plt.yticks([])\n",
        "  plt.grid(False)\n",
        "  plt.imshow(test_X[i], cmap=plt.cm.binary) # makes the colour grey\n",
        "  plt.xlabel(class_names[test_y[i]])\n",
        "  plt.show()\n",
        "\n",
        "# assign each numerical label to its English equivalent\n",
        "class_names = ['T-shirt/top','Trouser','Pullover','Dress','Coat','Sandal','Shirt','Sneaker','Bag','Ankle boot']\n",
        "\n",
        "# compare the model prediction and the actual classification\n",
        "def classify(a):\n",
        "  predictions = model.predict(test_X)\n",
        "  numero = np.argmax(predictions[a])\n",
        "  print('')\n",
        "  print('Model predicts this is a : '+ class_names[numero])\n",
        "\n",
        "  print(\"\\nHere's what it actually is: \")\n",
        "  show_photo(a)\n",
        "\n",
        "  if numero == test_y[a]:\n",
        "    print('Looks like the prediction was right. :)')\n",
        "  else:\n",
        "    print('Looks like the prediction was wrong. :(')"
      ],
      "execution_count": null,
      "outputs": []
    },
    {
      "cell_type": "code",
      "metadata": {
        "id": "fUW5YG9zKkQX",
        "colab": {
          "base_uri": "https://localhost:8080/",
          "height": 661
        },
        "outputId": "0c6e3f7c-1ba9-4b1b-8fb4-ffe4121c39a3"
      },
      "source": [
        "# anyone can test out the accuracy of the model\n",
        "print('Please enter an integer between 1 and 10 000 (inclusive):')\n",
        "\n",
        "while True:\n",
        "  try:\n",
        "    x = int(input())-1\n",
        "  except ValueError:\n",
        "    print(\"That is not an integer.\")\n",
        "    continue\n",
        "  if x>=0 and x<10000:\n",
        "    classify(x)\n",
        "    break\n",
        "  else:\n",
        "    print('You did not enter an integer between 1 and 10 000. Please try again.')\n",
        "    continue\n",
        "\n"
      ],
      "execution_count": null,
      "outputs": [
        {
          "output_type": "stream",
          "name": "stdout",
          "text": [
            "Please enter an integer between 1 and 10 000 (inclusive):\n",
            "3\n",
            "313/313 [==============================] - 1s 2ms/step\n",
            "\n",
            "Model predicts this is a : Trouser\n",
            "\n",
            "Here's what it actually is: \n"
          ]
        },
        {
          "output_type": "display_data",
          "data": {
            "text/plain": [
              "<Figure size 600x600 with 1 Axes>"
            ],
            "image/png": "[encoded data removed]"
          },
          "metadata": {}
        },
        {
          "output_type": "stream",
          "name": "stdout",
          "text": [
            "Looks like the prediction was right. :)\n"
          ]
        }
      ]
    }
  ]
}